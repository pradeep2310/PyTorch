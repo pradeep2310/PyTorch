{
  "cells": [
    {
      "cell_type": "markdown",
      "metadata": {
        "id": "view-in-github",
        "colab_type": "text"
      },
      "source": [
        "<a href=\"https://colab.research.google.com/github/pradeep2310/PyTorch/blob/main/Neural_network_pytorch_exercise.ipynb\" target=\"_parent\"><img src=\"https://colab.research.google.com/assets/colab-badge.svg\" alt=\"Open In Colab\"/></a>"
      ]
    },
    {
      "cell_type": "code",
      "execution_count": null,
      "metadata": {
        "id": "UtsI9MDhfjDp"
      },
      "outputs": [],
      "source": [
        "import torch\n",
        "import numpy as np\n",
        "import helper\n",
        "import matplotlib.pyplot as plt\n",
        "%matplotlib inline\n",
        "%config InlineBackend.figure_formate = 'retina'"
      ]
    },
    {
      "cell_type": "code",
      "source": [
        "from six.moves import urllib\n",
        "opener= urllib.request.build_opener()\n",
        "opener.addheaders= [('User-agent', 'Mozilla/5.0')]\n",
        "urllib.request.install_opener(opener)"
      ],
      "metadata": {
        "id": "IjbdVrKXGAA3"
      },
      "execution_count": null,
      "outputs": []
    },
    {
      "cell_type": "code",
      "source": [
        "from torchvision import datasets, transforms\n",
        "\n",
        "#noramlize the dataset\n",
        "transform= transforms.Compose([transforms.ToTensor(), transforms.Normalize((0.5),(0.5)),])\n",
        "\n",
        "#load dataset\n",
        "trainset= datasets.MNIST('~/.pytorch/MNIST_data/', download= True, train=True, transform=transform)\n",
        "trainloader= torch.utils.data.DataLoader(trainset, batch_size=64, shuffle=True)"
      ],
      "metadata": {
        "id": "giFRLBYcy-FZ"
      },
      "execution_count": null,
      "outputs": []
    },
    {
      "cell_type": "code",
      "source": [
        "dataiter = iter(trainloader)\n",
        "images, lables = next(dataiter)\n",
        "print(type(images))\n",
        "print(images.shape)\n",
        "print(lables.shape)"
      ],
      "metadata": {
        "colab": {
          "base_uri": "https://localhost:8080/"
        },
        "id": "prECUTGl34zC",
        "outputId": "eaaedaa1-4d8c-43b9-81cb-dce1272bbeeb"
      },
      "execution_count": null,
      "outputs": [
        {
          "output_type": "stream",
          "name": "stdout",
          "text": [
            "<class 'torch.Tensor'>\n",
            "torch.Size([64, 1, 28, 28])\n",
            "torch.Size([64])\n"
          ]
        }
      ]
    },
    {
      "cell_type": "code",
      "source": [
        "plt.imshow(images[1].numpy().squeeze(), cmap='Greys_r')"
      ],
      "metadata": {
        "colab": {
          "base_uri": "https://localhost:8080/",
          "height": 447
        },
        "id": "aq-I8ZDr51zG",
        "outputId": "20080da2-e4a2-4286-eaf1-5c3ee88a9c4e"
      },
      "execution_count": null,
      "outputs": [
        {
          "output_type": "execute_result",
          "data": {
            "text/plain": [
              "<matplotlib.image.AxesImage at 0x7b6b268a5ff0>"
            ]
          },
          "metadata": {},
          "execution_count": 163
        },
        {
          "output_type": "display_data",
          "data": {
            "text/plain": [
              "<Figure size 640x480 with 1 Axes>"
            ],
            "image/png": "[encoded data removed]"
          },
          "metadata": {}
        }
      ]
    },
    {
      "cell_type": "markdown",
      "source": [
        "Building network with pytorch"
      ],
      "metadata": {
        "id": "bs2gG-KT8O-S"
      }
    },
    {
      "cell_type": "code",
      "source": [
        "from torch import nn"
      ],
      "metadata": {
        "id": "uji63rps8I1X"
      },
      "execution_count": null,
      "outputs": []
    },
    {
      "cell_type": "code",
      "source": [
        "class net(nn.Module):\n",
        "  def __init__(self):\n",
        "    super().__init__()\n",
        "    self.h = nn.Linear(784,256)    #hidden layer\n",
        "    self.o = nn.Linear(256,10)     #output layer, 10 units- one for each digit\n",
        "\n",
        "    self.sigmoid = nn.Sigmoid()    # activation\n",
        "    self.softmax = nn.Softmax(dim=1)  #softmax output\n",
        "\n",
        "  def forward(self,x):\n",
        "    x=self.h(x)\n",
        "    x=self.sigmoid(x)\n",
        "    x=self.o(x)\n",
        "    x=self.softmax(x)\n",
        "    return x"
      ],
      "metadata": {
        "id": "u8kZp4IY8ZvU"
      },
      "execution_count": null,
      "outputs": []
    },
    {
      "cell_type": "code",
      "source": [
        "model=net()\n",
        "model"
      ],
      "metadata": {
        "id": "ud5OqhXI-Pue",
        "colab": {
          "base_uri": "https://localhost:8080/"
        },
        "outputId": "a692c2ca-d080-4636-caee-98d6da30e52d"
      },
      "execution_count": null,
      "outputs": [
        {
          "output_type": "execute_result",
          "data": {
            "text/plain": [
              "net(\n",
              "  (h): Linear(in_features=784, out_features=256, bias=True)\n",
              "  (o): Linear(in_features=256, out_features=10, bias=True)\n",
              "  (sigmoid): Sigmoid()\n",
              "  (softmax): Softmax(dim=1)\n",
              ")"
            ]
          },
          "metadata": {},
          "execution_count": 166
        }
      ]
    },
    {
      "cell_type": "code",
      "source": [
        "import torch.nn.functional as F\n",
        "\n",
        "class net1(nn.Module):\n",
        "  def __init__(self):\n",
        "    super().__init__()\n",
        "    self.h = nn.Linear(784,256)\n",
        "    self.o = nn.Linear(256,10)\n",
        "\n",
        "  def forward(self,x):\n",
        "    x = F.sigmoid(self.h(x))\n",
        "    x= F.softmax(self.o(x), dim=1)\n",
        "    return x"
      ],
      "metadata": {
        "id": "9jtSKMou6ccV"
      },
      "execution_count": null,
      "outputs": []
    },
    {
      "cell_type": "code",
      "source": [],
      "metadata": {
        "id": "PE0JuUpK7o7w"
      },
      "execution_count": null,
      "outputs": []
    },
    {
      "cell_type": "markdown",
      "source": [
        "# **Example**"
      ],
      "metadata": {
        "id": "o6OgzGO88qG0"
      }
    },
    {
      "cell_type": "code",
      "source": [
        "class network(nn.Module):\n",
        "  def __init__(self):\n",
        "    super().__init__()\n",
        "    self.fc1 = nn.Linear(784,128)\n",
        "    self.fc2= nn.Linear(128,64)\n",
        "    self.fc3= nn.Linear(64,10)\n",
        "\n",
        "  def forward(self,x):\n",
        "    x= F.relu(self.fc1(x))\n",
        "    x= F.relu(self.fc2(x))\n",
        "    x= F.softmax(self.fc3(x), dim=1)\n",
        "    return x"
      ],
      "metadata": {
        "id": "5OyAd5J18rjc"
      },
      "execution_count": null,
      "outputs": []
    },
    {
      "cell_type": "code",
      "source": [
        "model=network()\n",
        "print(model.fc1.weight)\n",
        "print(model.fc1.bias)"
      ],
      "metadata": {
        "colab": {
          "base_uri": "https://localhost:8080/"
        },
        "id": "3tNmGn_F-lh2",
        "outputId": "137d2098-1e6f-4038-c0c5-6d263c0afdc3"
      },
      "execution_count": null,
      "outputs": [
        {
          "output_type": "stream",
          "name": "stdout",
          "text": [
            "Parameter containing:\n",
            "tensor([[-0.0328, -0.0227,  0.0013,  ..., -0.0044, -0.0082,  0.0024],\n",
            "        [-0.0220, -0.0032,  0.0222,  ..., -0.0211,  0.0162,  0.0227],\n",
            "        [ 0.0267,  0.0280,  0.0243,  ..., -0.0203, -0.0188,  0.0182],\n",
            "        ...,\n",
            "        [ 0.0021,  0.0323, -0.0268,  ...,  0.0070,  0.0188,  0.0094],\n",
            "        [ 0.0088,  0.0118,  0.0240,  ...,  0.0162, -0.0091,  0.0045],\n",
            "        [-0.0322, -0.0222,  0.0114,  ...,  0.0130, -0.0269,  0.0109]],\n",
            "       requires_grad=True)\n",
            "Parameter containing:\n",
            "tensor([ 0.0192, -0.0141,  0.0044, -0.0177, -0.0181, -0.0284, -0.0251, -0.0301,\n",
            "        -0.0332,  0.0083, -0.0309, -0.0139,  0.0055,  0.0167, -0.0069,  0.0304,\n",
            "        -0.0028,  0.0269, -0.0114, -0.0151, -0.0088, -0.0218, -0.0150, -0.0048,\n",
            "         0.0290,  0.0169, -0.0185, -0.0178, -0.0012,  0.0105, -0.0118, -0.0112,\n",
            "        -0.0064, -0.0116, -0.0098,  0.0283,  0.0239,  0.0202,  0.0112,  0.0087,\n",
            "         0.0010, -0.0252,  0.0213, -0.0169, -0.0211, -0.0242, -0.0137,  0.0277,\n",
            "        -0.0277, -0.0323,  0.0242, -0.0047, -0.0162, -0.0231,  0.0005,  0.0110,\n",
            "         0.0209, -0.0038, -0.0046,  0.0145, -0.0214,  0.0314, -0.0325,  0.0250,\n",
            "        -0.0291,  0.0067, -0.0339,  0.0054, -0.0177, -0.0092, -0.0012, -0.0244,\n",
            "        -0.0075, -0.0131, -0.0046,  0.0330,  0.0177, -0.0315,  0.0292,  0.0128,\n",
            "         0.0018,  0.0188,  0.0130,  0.0131, -0.0299, -0.0190, -0.0070, -0.0298,\n",
            "        -0.0236, -0.0326,  0.0139,  0.0075,  0.0345, -0.0140,  0.0226, -0.0313,\n",
            "        -0.0190, -0.0122,  0.0252,  0.0191, -0.0285, -0.0092,  0.0015, -0.0125,\n",
            "         0.0110, -0.0236, -0.0210, -0.0170,  0.0210, -0.0311,  0.0166, -0.0199,\n",
            "        -0.0263,  0.0060, -0.0110, -0.0275, -0.0176,  0.0330,  0.0193,  0.0285,\n",
            "         0.0227,  0.0174,  0.0216, -0.0010, -0.0155, -0.0330, -0.0284,  0.0251],\n",
            "       requires_grad=True)\n"
          ]
        }
      ]
    },
    {
      "cell_type": "code",
      "source": [
        "model.fc1.bias.data.fill_(0)\n",
        "model.fc1.bias"
      ],
      "metadata": {
        "colab": {
          "base_uri": "https://localhost:8080/"
        },
        "id": "IIaFibXM-1N_",
        "outputId": "927d01b7-618a-4e37-ef02-0a6ffa3bf000"
      },
      "execution_count": null,
      "outputs": [
        {
          "output_type": "execute_result",
          "data": {
            "text/plain": [
              "Parameter containing:\n",
              "tensor([0., 0., 0., 0., 0., 0., 0., 0., 0., 0., 0., 0., 0., 0., 0., 0., 0., 0., 0., 0., 0., 0., 0., 0.,\n",
              "        0., 0., 0., 0., 0., 0., 0., 0., 0., 0., 0., 0., 0., 0., 0., 0., 0., 0., 0., 0., 0., 0., 0., 0.,\n",
              "        0., 0., 0., 0., 0., 0., 0., 0., 0., 0., 0., 0., 0., 0., 0., 0., 0., 0., 0., 0., 0., 0., 0., 0.,\n",
              "        0., 0., 0., 0., 0., 0., 0., 0., 0., 0., 0., 0., 0., 0., 0., 0., 0., 0., 0., 0., 0., 0., 0., 0.,\n",
              "        0., 0., 0., 0., 0., 0., 0., 0., 0., 0., 0., 0., 0., 0., 0., 0., 0., 0., 0., 0., 0., 0., 0., 0.,\n",
              "        0., 0., 0., 0., 0., 0., 0., 0.], requires_grad=True)"
            ]
          },
          "metadata": {},
          "execution_count": 170
        }
      ]
    },
    {
      "cell_type": "code",
      "source": [
        "model.fc1.weight.data.normal_(std=0.01)\n",
        "model.fc1.weight"
      ],
      "metadata": {
        "colab": {
          "base_uri": "https://localhost:8080/"
        },
        "id": "HJM7marL_sO3",
        "outputId": "1dae38e2-a109-44ca-cae9-b65128e70508"
      },
      "execution_count": null,
      "outputs": [
        {
          "output_type": "execute_result",
          "data": {
            "text/plain": [
              "Parameter containing:\n",
              "tensor([[-0.0089, -0.0093, -0.0047,  ...,  0.0052, -0.0019,  0.0081],\n",
              "        [ 0.0018,  0.0034,  0.0001,  ..., -0.0042,  0.0047,  0.0196],\n",
              "        [-0.0005,  0.0013, -0.0018,  ..., -0.0002,  0.0138, -0.0006],\n",
              "        ...,\n",
              "        [-0.0110,  0.0136, -0.0057,  ..., -0.0104, -0.0036,  0.0051],\n",
              "        [-0.0020, -0.0172,  0.0015,  ...,  0.0084,  0.0149, -0.0140],\n",
              "        [ 0.0081,  0.0057,  0.0028,  ..., -0.0065,  0.0082,  0.0136]],\n",
              "       requires_grad=True)"
            ]
          },
          "metadata": {},
          "execution_count": 171
        }
      ]
    },
    {
      "cell_type": "markdown",
      "source": [
        "pass in an image"
      ],
      "metadata": {
        "id": "DJ4nv6s1AJCK"
      }
    },
    {
      "cell_type": "code",
      "source": [
        "# Resize images into a 1D vector, new shape is (batch size, color channels, image pixels)\n",
        "images.resize_(64, 1, 784)\n",
        "images.shape"
      ],
      "metadata": {
        "colab": {
          "base_uri": "https://localhost:8080/"
        },
        "id": "PQ5asnJy_5IL",
        "outputId": "dea90592-8067-4268-d589-a2f3928ea8cc"
      },
      "execution_count": null,
      "outputs": [
        {
          "output_type": "execute_result",
          "data": {
            "text/plain": [
              "torch.Size([64, 1, 784])"
            ]
          },
          "metadata": {},
          "execution_count": 172
        }
      ]
    },
    {
      "cell_type": "code",
      "source": [
        "# Forward pass through the network\n",
        "img_idx = 0\n",
        "ps = model.forward(images[img_idx,:])\n",
        "\n",
        "img = images[img_idx]\n",
        "# helper.view_classify(img.view(1, 28, 28), ps)"
      ],
      "metadata": {
        "id": "z6FIEj-SA0px"
      },
      "execution_count": null,
      "outputs": []
    },
    {
      "cell_type": "markdown",
      "source": [
        "Using nn.Sequential"
      ],
      "metadata": {
        "id": "74V2NBLIDq7O"
      }
    },
    {
      "cell_type": "code",
      "source": [
        "model= nn.Sequential(nn.Linear(784, 128),\n",
        "                     nn.ReLU(),\n",
        "                     nn.Linear(128,64),\n",
        "                     nn.ReLU(),\n",
        "                     nn.Linear(64,10),\n",
        "                     nn.Softmax(dim=1))"
      ],
      "metadata": {
        "id": "pIK32XyjBBn3"
      },
      "execution_count": null,
      "outputs": []
    },
    {
      "cell_type": "code",
      "source": [
        "# Forward pass through the network and display output\n",
        "images, labels = next(iter(trainloader))\n",
        "print(images.shape)\n",
        "images.resize_(64, 1, 784)\n",
        "print(images.shape)\n",
        "ps = model.forward(images[0,:])\n",
        "print(ps)\n",
        "# helper.view_classify(images[0].view(1, 28, 28), ps)"
      ],
      "metadata": {
        "colab": {
          "base_uri": "https://localhost:8080/"
        },
        "id": "LBUzX_DWEjPW",
        "outputId": "785224eb-07e8-4548-bdc8-636626e3d142"
      },
      "execution_count": null,
      "outputs": [
        {
          "output_type": "stream",
          "name": "stdout",
          "text": [
            "torch.Size([64, 1, 28, 28])\n",
            "torch.Size([64, 1, 784])\n",
            "tensor([[0.1088, 0.0996, 0.0960, 0.0943, 0.0950, 0.1082, 0.0943, 0.1194, 0.0960,\n",
            "         0.0883]], grad_fn=<SoftmaxBackward0>)\n"
          ]
        }
      ]
    },
    {
      "cell_type": "code",
      "source": [
        "plt.imshow(images[0].reshape(28,28))"
      ],
      "metadata": {
        "id": "0xKF83a0Ewmf",
        "colab": {
          "base_uri": "https://localhost:8080/",
          "height": 447
        },
        "outputId": "094233fe-8c2b-4c3a-b81b-74c3ad70c724"
      },
      "execution_count": null,
      "outputs": [
        {
          "output_type": "execute_result",
          "data": {
            "text/plain": [
              "<matplotlib.image.AxesImage at 0x7b6b208b5510>"
            ]
          },
          "metadata": {},
          "execution_count": 176
        },
        {
          "output_type": "display_data",
          "data": {
            "text/plain": [
              "<Figure size 640x480 with 1 Axes>"
            ],
            "image/png": "[encoded data removed]"
          },
          "metadata": {}
        }
      ]
    },
    {
      "cell_type": "code",
      "source": [
        "ps.argmax()"
      ],
      "metadata": {
        "colab": {
          "base_uri": "https://localhost:8080/"
        },
        "id": "_qNSDIIWRV0P",
        "outputId": "9c5640da-a64d-42c5-c08a-53ef813bc0c7"
      },
      "execution_count": null,
      "outputs": [
        {
          "output_type": "execute_result",
          "data": {
            "text/plain": [
              "tensor(7)"
            ]
          },
          "metadata": {},
          "execution_count": 177
        }
      ]
    },
    {
      "cell_type": "code",
      "source": [],
      "metadata": {
        "id": "7PasBnwBSBVh"
      },
      "execution_count": null,
      "outputs": []
    }
  ],
  "metadata": {
    "colab": {
      "provenance": [],
      "gpuType": "T4",
      "authorship_tag": "ABX9TyNKuguj55zO+K8CVSGsKPFg",
      "include_colab_link": true
    },
    "kernelspec": {
      "display_name": "Python 3",
      "name": "python3"
    },
    "language_info": {
      "name": "python"
    },
    "accelerator": "GPU"
  },
  "nbformat": 4,
  "nbformat_minor": 0
}